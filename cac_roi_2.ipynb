{
 "cells": [
  {
   "attachments": {},
   "cell_type": "markdown",
   "metadata": {},
   "source": [
    "Задаём функция get_profiles(). Вызовем её, чтобы построить профили пользователей со стоимостью привлечения."
   ]
  },
  {
   "cell_type": "code",
   "execution_count": 10,
   "metadata": {},
   "outputs": [],
   "source": [
    "import pandas as pd\n",
    "from datetime import datetime, timedelta\n",
    "import numpy as np\n"
   ]
  },
  {
   "cell_type": "code",
   "execution_count": 11,
   "metadata": {},
   "outputs": [],
   "source": [
    "def get_profiles(sessions, orders, events, ad_costs, event_names=[]):\n",
    "\n",
    "    # находим параметры первых посещений\n",
    "    profiles = (\n",
    "        sessions.sort_values(by=['user_id', 'session_start'])\n",
    "        .groupby('user_id')\n",
    "        .agg(\n",
    "            {\n",
    "                'session_start': 'first',\n",
    "                'channel': 'first',\n",
    "                'device': 'first',\n",
    "                'region': 'first',\n",
    "            }\n",
    "        )\n",
    "        .rename(columns={'session_start': 'first_ts'})\n",
    "        .reset_index()\n",
    "    )\n",
    "\n",
    "    # для когортного анализа определяем дату первого посещения\n",
    "    # и первый день месяца, в который это посещение произошло\n",
    "    profiles['dt'] = profiles['first_ts'].dt.date\n",
    "    profiles['month'] = profiles['first_ts'].astype('datetime64[M]')\n",
    "\n",
    "    # добавляем признак платящих пользователей\n",
    "    profiles['payer'] = profiles['user_id'].isin(orders['user_id'].unique())\n",
    "\n",
    "    # добавляем флаги для всех событий из event_names\n",
    "    for event in event_names:\n",
    "        if event in events['event_name'].unique():\n",
    "            profiles[event] = profiles['user_id'].isin(\n",
    "                events.query('event_name == @event')['user_id'].unique()\n",
    "            )\n",
    "\n",
    "    # считаем количество уникальных пользователей\n",
    "    # с одинаковыми источником и датой привлечения\n",
    "    new_users = (\n",
    "        profiles.groupby(['dt', 'channel'])\n",
    "        .agg({'user_id': 'nunique'})\n",
    "        .rename(columns={'user_id': 'unique_users'})\n",
    "        .reset_index()\n",
    "    )\n",
    "\n",
    "    # объединяем траты на рекламу и число привлечённых пользователей\n",
    "    ad_costs = ad_costs.merge(new_users, on=['dt', 'channel'], how='left')\n",
    "\n",
    "    # делим рекламные расходы на число привлечённых пользователей\n",
    "    ad_costs['acquisition_cost'] = ad_costs['costs'] / ad_costs['unique_users']\n",
    "\n",
    "    # добавляем стоимость привлечения в профили\n",
    "    profiles = profiles.merge(\n",
    "        ad_costs[['dt', 'channel', 'acquisition_cost']],\n",
    "        on=['dt', 'channel'],\n",
    "        how='left',\n",
    "    )\n",
    "\n",
    "    # стоимость привлечения органических пользователей равна нулю\n",
    "    profiles['acquisition_cost'] = profiles['acquisition_cost'].fillna(0)\n",
    "\n",
    "    return profiles"
   ]
  },
  {
   "cell_type": "code",
   "execution_count": 12,
   "metadata": {},
   "outputs": [],
   "source": [
    "visits = pd.read_csv('C:\\\\Users\\\\37544\\\\Downloads\\\\ch02_problems03_visits.csv')  # журнал сессий\n",
    "purchases = pd.read_csv('C:\\\\Users\\\\37544\\\\Downloads\\\\ch02_problems02_orders.csv')  # покупки\n",
    "ad_costs = pd.read_csv('C:\\\\Users\\\\37544\\\\Downloads\\\\ch02_problems02_costs.csv')  # траты на рекламу\n",
    "events = None  # других событий нет, None — чтобы не «сломать» get_profiles()"
   ]
  },
  {
   "cell_type": "code",
   "execution_count": 13,
   "metadata": {},
   "outputs": [],
   "source": [
    "# преобразование данных о времени\n",
    "visits['session_start'] = pd.to_datetime(visits['session_start'])\n",
    "purchases['event_dt'] = pd.to_datetime(purchases['event_dt'])"
   ]
  },
  {
   "cell_type": "code",
   "execution_count": 14,
   "metadata": {},
   "outputs": [],
   "source": [
    "# разбиваем траты на рекламу по дням\n",
    "min_date = datetime(2020, 7, 11)\n",
    "max_date = datetime(2020, 8, 10)\n",
    "days_num = (max_date - min_date).days"
   ]
  },
  {
   "cell_type": "code",
   "execution_count": 15,
   "metadata": {},
   "outputs": [],
   "source": [
    "daily_costs = []\n",
    "for index, values in ad_costs.iterrows():\n",
    "    channel_name = values['channel']\n",
    "    channel_costs = values['costs']\n",
    "    avg_channel_costs = channel_costs / days_num\n",
    "    for i in range(days_num):\n",
    "        current_day = min_date + timedelta(days=i)\n",
    "        daily_costs += [[current_day, channel_name, avg_channel_costs]]"
   ]
  },
  {
   "cell_type": "code",
   "execution_count": 16,
   "metadata": {},
   "outputs": [],
   "source": [
    "# создаём датафрейм с тратами на рекламу по дням\n",
    "daily_costs = pd.DataFrame(daily_costs, columns=['dt', 'channel', 'costs'])\n",
    "daily_costs['dt'] = daily_costs['dt'].dt.date"
   ]
  },
  {
   "cell_type": "code",
   "execution_count": 17,
   "metadata": {},
   "outputs": [],
   "source": [
    "users =  get_profiles(visits, purchases, events, daily_costs)"
   ]
  },
  {
   "cell_type": "code",
   "execution_count": 18,
   "metadata": {},
   "outputs": [
    {
     "data": {
      "text/html": [
       "<div>\n",
       "<style scoped>\n",
       "    .dataframe tbody tr th:only-of-type {\n",
       "        vertical-align: middle;\n",
       "    }\n",
       "\n",
       "    .dataframe tbody tr th {\n",
       "        vertical-align: top;\n",
       "    }\n",
       "\n",
       "    .dataframe thead th {\n",
       "        text-align: right;\n",
       "    }\n",
       "</style>\n",
       "<table border=\"1\" class=\"dataframe\">\n",
       "  <thead>\n",
       "    <tr style=\"text-align: right;\">\n",
       "      <th></th>\n",
       "      <th>user_id</th>\n",
       "      <th>first_ts</th>\n",
       "      <th>channel</th>\n",
       "      <th>device</th>\n",
       "      <th>region</th>\n",
       "      <th>dt</th>\n",
       "      <th>month</th>\n",
       "      <th>payer</th>\n",
       "      <th>acquisition_cost</th>\n",
       "    </tr>\n",
       "  </thead>\n",
       "  <tbody>\n",
       "    <tr>\n",
       "      <th>0</th>\n",
       "      <td>242074</td>\n",
       "      <td>2020-08-05 06:04:32</td>\n",
       "      <td>Organic</td>\n",
       "      <td>Mac</td>\n",
       "      <td>United States</td>\n",
       "      <td>2020-08-05</td>\n",
       "      <td>2020-08-05 06:04:32</td>\n",
       "      <td>False</td>\n",
       "      <td>0.000000</td>\n",
       "    </tr>\n",
       "    <tr>\n",
       "      <th>1</th>\n",
       "      <td>4284686</td>\n",
       "      <td>2020-08-02 21:08:29</td>\n",
       "      <td>VaporStore</td>\n",
       "      <td>iPhone</td>\n",
       "      <td>United States</td>\n",
       "      <td>2020-08-02</td>\n",
       "      <td>2020-08-02 21:08:29</td>\n",
       "      <td>False</td>\n",
       "      <td>2.347259</td>\n",
       "    </tr>\n",
       "    <tr>\n",
       "      <th>2</th>\n",
       "      <td>10964006</td>\n",
       "      <td>2020-07-30 16:27:45</td>\n",
       "      <td>Organic</td>\n",
       "      <td>Android</td>\n",
       "      <td>Germany</td>\n",
       "      <td>2020-07-30</td>\n",
       "      <td>2020-07-30 16:27:45</td>\n",
       "      <td>False</td>\n",
       "      <td>0.000000</td>\n",
       "    </tr>\n",
       "    <tr>\n",
       "      <th>3</th>\n",
       "      <td>12358165</td>\n",
       "      <td>2020-07-26 02:06:13</td>\n",
       "      <td>Organic</td>\n",
       "      <td>Mac</td>\n",
       "      <td>United States</td>\n",
       "      <td>2020-07-26</td>\n",
       "      <td>2020-07-26 02:06:13</td>\n",
       "      <td>False</td>\n",
       "      <td>0.000000</td>\n",
       "    </tr>\n",
       "    <tr>\n",
       "      <th>4</th>\n",
       "      <td>12545358</td>\n",
       "      <td>2020-07-18 00:45:37</td>\n",
       "      <td>Organic</td>\n",
       "      <td>PC</td>\n",
       "      <td>United States</td>\n",
       "      <td>2020-07-18</td>\n",
       "      <td>2020-07-18 00:45:37</td>\n",
       "      <td>False</td>\n",
       "      <td>0.000000</td>\n",
       "    </tr>\n",
       "  </tbody>\n",
       "</table>\n",
       "</div>"
      ],
      "text/plain": [
       "    user_id            first_ts     channel   device         region  \\\n",
       "0    242074 2020-08-05 06:04:32     Organic      Mac  United States   \n",
       "1   4284686 2020-08-02 21:08:29  VaporStore   iPhone  United States   \n",
       "2  10964006 2020-07-30 16:27:45     Organic  Android        Germany   \n",
       "3  12358165 2020-07-26 02:06:13     Organic      Mac  United States   \n",
       "4  12545358 2020-07-18 00:45:37     Organic       PC  United States   \n",
       "\n",
       "           dt               month  payer  acquisition_cost  \n",
       "0  2020-08-05 2020-08-05 06:04:32  False          0.000000  \n",
       "1  2020-08-02 2020-08-02 21:08:29  False          2.347259  \n",
       "2  2020-07-30 2020-07-30 16:27:45  False          0.000000  \n",
       "3  2020-07-26 2020-07-26 02:06:13  False          0.000000  \n",
       "4  2020-07-18 2020-07-18 00:45:37  False          0.000000  "
      ]
     },
     "execution_count": 18,
     "metadata": {},
     "output_type": "execute_result"
    }
   ],
   "source": [
    "users.head(5)"
   ]
  }
 ],
 "metadata": {
  "kernelspec": {
   "display_name": "Python 3",
   "language": "python",
   "name": "python3"
  },
  "language_info": {
   "codemirror_mode": {
    "name": "ipython",
    "version": 3
   },
   "file_extension": ".py",
   "mimetype": "text/x-python",
   "name": "python",
   "nbconvert_exporter": "python",
   "pygments_lexer": "ipython3",
   "version": "3.11.1"
  },
  "orig_nbformat": 4
 },
 "nbformat": 4,
 "nbformat_minor": 2
}
