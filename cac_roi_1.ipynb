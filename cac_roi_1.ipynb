{
 "cells": [
  {
   "attachments": {},
   "cell_type": "markdown",
   "metadata": {},
   "source": [
    "Для отчёта об эффективности рекламы Игры с 11 июля по 10 августа 2020 года мы уже рассчитали удержание, отскок, конверсию и «пожизненную ценность» пользователей. Последняя важная метрика — ROI, возврат на инвестиции."
   ]
  },
  {
   "cell_type": "code",
   "execution_count": 1,
   "metadata": {},
   "outputs": [],
   "source": [
    "import pandas as pd\n",
    "from datetime import datetime, timedelta"
   ]
  },
  {
   "cell_type": "code",
   "execution_count": 2,
   "metadata": {},
   "outputs": [],
   "source": [
    "visits = pd.read_csv('C:\\\\Users\\\\37544\\\\Downloads\\\\ch02_problems03_visits.csv')  # журнал сессий\n",
    "purchases = pd.read_csv('C:\\\\Users\\\\37544\\\\Downloads\\\\ch02_problems02_orders.csv')  # покупки\n",
    "ad_costs = pd.read_csv('C:\\\\Users\\\\37544\\\\Downloads\\\\ch02_problems02_costs.csv')  # траты на рекламу"
   ]
  },
  {
   "cell_type": "code",
   "execution_count": 3,
   "metadata": {},
   "outputs": [],
   "source": [
    "# преобразование данных о времени\n",
    "visits['session_start'] = pd.to_datetime(visits['session_start'])\n",
    "purchases['event_dt'] = pd.to_datetime(purchases['event_dt'])"
   ]
  },
  {
   "cell_type": "code",
   "execution_count": 4,
   "metadata": {},
   "outputs": [],
   "source": [
    " # добавьте самую раннюю дату в отчёте в формате datetime\n",
    "min_date = datetime(2020, 7, 11)\n",
    " # добавьте самую позднюю дату в отчёте в формате datetime\n",
    "max_date = datetime(2020, 8, 10)"
   ]
  },
  {
   "cell_type": "code",
   "execution_count": 5,
   "metadata": {},
   "outputs": [],
   "source": [
    "# находим количество дней в отчёте\n",
    "days_num = (max_date - min_date).days\n"
   ]
  },
  {
   "cell_type": "code",
   "execution_count": 6,
   "metadata": {},
   "outputs": [],
   "source": [
    "# создаём пустую таблицу для рекламных трат\n",
    "daily_costs = []\n"
   ]
  },
  {
   "cell_type": "code",
   "execution_count": 11,
   "metadata": {},
   "outputs": [],
   "source": [
    "# перебираем данные о затратах по источникам\n",
    "for index, values in ad_costs.iterrows():\n",
    "\n",
    "    channel_name =  values['channel'] # определим канал привлечения\n",
    "    channel_costs =  values['costs']  # и общие рекламные траты на него\n",
    "    avg_channel_costs =  channel_costs / days_num # рассчитаем средние траты за день\n",
    "\n",
    "    # заполняем таблицу рекламных трат\n",
    "    for i in range(days_num):\n",
    "        current_day = min_date + timedelta(days = i) # рассчитайте текущую дату\n",
    "        # добавляем строку в таблицу трат\n",
    "        daily_costs += [[current_day, channel_name, avg_channel_costs]]\n"
   ]
  },
  {
   "cell_type": "code",
   "execution_count": 12,
   "metadata": {},
   "outputs": [],
   "source": [
    "# превращаем таблицу рекламных трат в датафрейм\n",
    "daily_costs = pd.DataFrame(daily_costs, columns=['dt', 'channel', 'costs'])\n",
    "# преобразуем данные о времени\n",
    "daily_costs['dt'] = daily_costs['dt'].dt.date"
   ]
  },
  {
   "cell_type": "code",
   "execution_count": 13,
   "metadata": {},
   "outputs": [
    {
     "data": {
      "text/html": [
       "<div>\n",
       "<style scoped>\n",
       "    .dataframe tbody tr th:only-of-type {\n",
       "        vertical-align: middle;\n",
       "    }\n",
       "\n",
       "    .dataframe tbody tr th {\n",
       "        vertical-align: top;\n",
       "    }\n",
       "\n",
       "    .dataframe thead th {\n",
       "        text-align: right;\n",
       "    }\n",
       "</style>\n",
       "<table border=\"1\" class=\"dataframe\">\n",
       "  <thead>\n",
       "    <tr style=\"text-align: right;\">\n",
       "      <th></th>\n",
       "      <th>dt</th>\n",
       "      <th>channel</th>\n",
       "      <th>costs</th>\n",
       "    </tr>\n",
       "  </thead>\n",
       "  <tbody>\n",
       "    <tr>\n",
       "      <th>0</th>\n",
       "      <td>2020-07-11</td>\n",
       "      <td>BattleYes</td>\n",
       "      <td>487.736167</td>\n",
       "    </tr>\n",
       "    <tr>\n",
       "      <th>1</th>\n",
       "      <td>2020-07-12</td>\n",
       "      <td>BattleYes</td>\n",
       "      <td>487.736167</td>\n",
       "    </tr>\n",
       "    <tr>\n",
       "      <th>2</th>\n",
       "      <td>2020-07-13</td>\n",
       "      <td>BattleYes</td>\n",
       "      <td>487.736167</td>\n",
       "    </tr>\n",
       "    <tr>\n",
       "      <th>3</th>\n",
       "      <td>2020-07-14</td>\n",
       "      <td>BattleYes</td>\n",
       "      <td>487.736167</td>\n",
       "    </tr>\n",
       "    <tr>\n",
       "      <th>4</th>\n",
       "      <td>2020-07-15</td>\n",
       "      <td>BattleYes</td>\n",
       "      <td>487.736167</td>\n",
       "    </tr>\n",
       "  </tbody>\n",
       "</table>\n",
       "</div>"
      ],
      "text/plain": [
       "           dt    channel       costs\n",
       "0  2020-07-11  BattleYes  487.736167\n",
       "1  2020-07-12  BattleYes  487.736167\n",
       "2  2020-07-13  BattleYes  487.736167\n",
       "3  2020-07-14  BattleYes  487.736167\n",
       "4  2020-07-15  BattleYes  487.736167"
      ]
     },
     "execution_count": 13,
     "metadata": {},
     "output_type": "execute_result"
    }
   ],
   "source": [
    "daily_costs.head(5)"
   ]
  }
 ],
 "metadata": {
  "kernelspec": {
   "display_name": "Python 3",
   "language": "python",
   "name": "python3"
  },
  "language_info": {
   "codemirror_mode": {
    "name": "ipython",
    "version": 3
   },
   "file_extension": ".py",
   "mimetype": "text/x-python",
   "name": "python",
   "nbconvert_exporter": "python",
   "pygments_lexer": "ipython3",
   "version": "3.11.1"
  },
  "orig_nbformat": 4
 },
 "nbformat": 4,
 "nbformat_minor": 2
}
