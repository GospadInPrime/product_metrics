{
 "cells": [
  {
   "cell_type": "code",
   "execution_count": 1,
   "metadata": {},
   "outputs": [],
   "source": [
    "import pandas as pd"
   ]
  },
  {
   "cell_type": "code",
   "execution_count": 3,
   "metadata": {},
   "outputs": [],
   "source": [
    "users_data = pd.read_csv('C:\\\\Users\\\\37544\\\\Downloads\\\\users_data.csv')"
   ]
  },
  {
   "cell_type": "code",
   "execution_count": 4,
   "metadata": {},
   "outputs": [],
   "source": [
    "# приводим данные о времени к формату datetime\n",
    "users_data['session_start_ts'] = pd.to_datetime(users_data['session_start_ts'])\n",
    "users_data['session_end_ts'] = pd.to_datetime(users_data['session_end_ts'])"
   ]
  },
  {
   "cell_type": "code",
   "execution_count": 5,
   "metadata": {},
   "outputs": [],
   "source": [
    "users_data['session_year'] = users_data['session_start_ts'].dt.year\n",
    "users_data['session_month'] = users_data['session_start_ts'].dt.month\n",
    "users_data['session_week'] =users_data['session_start_ts'].dt.isocalendar().week\n",
    "users_data['session_date'] = users_data['session_start_ts'].dt.date"
   ]
  },
  {
   "cell_type": "code",
   "execution_count": 6,
   "metadata": {},
   "outputs": [],
   "source": [
    "mau_total = (\n",
    "    users_data.groupby(['session_year', 'session_month'])\n",
    "    .agg({'id': 'nunique'})\n",
    "    .mean()\n",
    ")"
   ]
  },
  {
   "cell_type": "code",
   "execution_count": 7,
   "metadata": {},
   "outputs": [],
   "source": [
    "dau_total = users_data.groupby('session_date').agg({'id':'nunique'}).mean()"
   ]
  },
  {
   "cell_type": "code",
   "execution_count": 8,
   "metadata": {},
   "outputs": [],
   "source": [
    "wau_total = (\n",
    "    users_data.groupby(['session_year', 'session_week'])\n",
    "    .agg({'id':'nunique'})\n",
    "    .mean()\n",
    ")"
   ]
  },
  {
   "cell_type": "code",
   "execution_count": 9,
   "metadata": {},
   "outputs": [
    {
     "name": "stdout",
     "output_type": "stream",
     "text": [
      "id    18.512582\n",
      "dtype: float64\n"
     ]
    }
   ],
   "source": [
    "sticky_wau = dau_total/wau_total * 100\n",
    "print(sticky_wau)"
   ]
  },
  {
   "cell_type": "code",
   "execution_count": 10,
   "metadata": {},
   "outputs": [
    {
     "name": "stdout",
     "output_type": "stream",
     "text": [
      "id    6.040741\n",
      "dtype: float64\n"
     ]
    }
   ],
   "source": [
    "sticky_mau = dau_total/mau_total * 100\n",
    "print(sticky_mau)"
   ]
  }
 ],
 "metadata": {
  "kernelspec": {
   "display_name": "Python 3",
   "language": "python",
   "name": "python3"
  },
  "language_info": {
   "codemirror_mode": {
    "name": "ipython",
    "version": 3
   },
   "file_extension": ".py",
   "mimetype": "text/x-python",
   "name": "python",
   "nbconvert_exporter": "python",
   "pygments_lexer": "ipython3",
   "version": "3.11.1"
  },
  "orig_nbformat": 4
 },
 "nbformat": 4,
 "nbformat_minor": 2
}
